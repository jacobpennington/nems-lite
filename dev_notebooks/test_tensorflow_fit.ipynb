{
 "cells": [
  {
   "cell_type": "code",
   "execution_count": null,
   "metadata": {},
   "outputs": [],
   "source": [
    "import numpy as np\n",
    "import tensorflow as tf\n",
    "from nems import Model\n",
    "\n",
    "input = np.random.rand(5, 1000, 18)  # 5 stimuli (as spectrogram) 1000 bins each\n",
    "target = np.random.rand(5, 1000, 1)   # 5 corresponding \"responses\"\n",
    "model = Model.from_keywords('wc.18x1-fir.15x1x5-relu.1.o.s')\n",
    "# model.freeze_layers('fir')\n",
    "options = {'learning_rate': 1e2, 'epochs': 2, 'validation_split': 0.2,\n",
    "           'cost_function': 'loss_se'}\n",
    "# with tf.device(\"/CPU:0\"):\n",
    "with tf.device(\"/GPU:0\"):\n",
    "    fit_model = model.fit(\n",
    "        input, target, backend='tf', fitter_options=options,\n",
    "        batch_size=None\n",
    "        )\n"
   ]
  },
  {
   "cell_type": "code",
   "execution_count": null,
   "metadata": {},
   "outputs": [],
   "source": [
    "fit_model.results"
   ]
  },
  {
   "cell_type": "code",
   "execution_count": null,
   "metadata": {},
   "outputs": [],
   "source": [
    "nems_prediction = fit_model.predict(input, batch_size=None)\n",
    "nems_prediction.shape"
   ]
  },
  {
   "cell_type": "code",
   "execution_count": null,
   "metadata": {},
   "outputs": [],
   "source": [
    "tf_prediction = fit_model.backend.predict(input)\n",
    "tf_prediction.shape"
   ]
  },
  {
   "cell_type": "code",
   "execution_count": null,
   "metadata": {},
   "outputs": [],
   "source": [
    "np.allclose(nems_prediction, tf_prediction)"
   ]
  },
  {
   "cell_type": "code",
   "execution_count": null,
   "metadata": {},
   "outputs": [],
   "source": []
  }
 ],
 "metadata": {
  "kernelspec": {
   "display_name": "Python 3.9.12 ('mkltest')",
   "language": "python",
   "name": "python3"
  },
  "language_info": {
   "codemirror_mode": {
    "name": "ipython",
    "version": 3
   },
   "file_extension": ".py",
   "mimetype": "text/x-python",
   "name": "python",
   "nbconvert_exporter": "python",
   "pygments_lexer": "ipython3",
   "version": "3.9.12"
  },
  "orig_nbformat": 4,
  "vscode": {
   "interpreter": {
    "hash": "7e04c614ea49137b728f9a88f47ebc62abd1dc770924cb0e56431acc2e9f8803"
   }
  }
 },
 "nbformat": 4,
 "nbformat_minor": 2
}
