{
 "cells": [
  {
   "cell_type": "code",
   "execution_count": null,
   "metadata": {},
   "outputs": [],
   "source": [
    "import numpy as np\n",
    "import matplotlib.pyplot as plt\n",
    "\n",
    "from nems import Model\n",
    "from nems.layers.base import Layer\n",
    "from nems.layers import WeightChannelsGaussian, FIR, DoubleExponential\n",
    "from nems.distributions import Normal\n",
    "\n",
    "# Generate a fake \"spectrogram\"\n",
    "one_channel = (np.arange(10000)/400)[..., np.newaxis]\n",
    "all_channels = [np.roll(one_channel, 300+i*20, axis=0) for i in range(18)]\n",
    "spectrogram =  np.sin(np.concatenate(all_channels, axis=1))\n",
    "# Zero out extremes\n",
    "spectrogram[:,0] = 0\n",
    "spectrogram[:,17] = 0\n",
    "# Rectify\n",
    "spectrogram = spectrogram * (spectrogram > 0)\n",
    "\n",
    "# Multiply by gaussians (along channel axis) that are at different\n",
    "# positions across time, so that each \"sound\" has a different\n",
    "# center frequency\n",
    "x = np.arange(18)/18\n",
    "mean = np.array([[0.2], [0.8], [0.35], [0.6]])\n",
    "sd = np.ones(shape=(4,1))/3\n",
    "coefficients = np.exp(-0.5*((x-mean)/sd)**2)\n",
    "for i in range(4):\n",
    "    c = coefficients[i, :]\n",
    "    first, last = (i*2500, (i+1)*2500)\n",
    "    spectrogram[first:last, :] = spectrogram[first:last, :]*c\n",
    "\n",
    "# Add some jitter in time\n",
    "jitter = np.random.rand(18)*500\n",
    "for i in range(18):\n",
    "    spectrogram[:, i] = np.roll(spectrogram[:, i], int(jitter[i]), axis=0)\n",
    "\n",
    "# And a fake \"response\"\n",
    "resp = np.cos(np.roll((np.arange(10000)/400)[..., np.newaxis], 1500, axis=0))\n",
    "resp = resp * (resp > 0)\n",
    "# Zero out first and third peaks, to respond to only some frequency ranges\n",
    "resp[0:2500] = 0\n",
    "resp[5000:7500] = 0\n",
    "# Add some white noise\n",
    "sample = Normal(mean=0, sd=1).sample(n=10000)[..., np.newaxis]/100\n",
    "resp += sample\n",
    "\n",
    "fig, (ax1, ax2) = plt.subplots(2,1, sharex=True, figsize=(10,6))\n",
    "ax1.imshow(spectrogram.T, aspect='auto')\n",
    "ax2.plot(resp)"
   ]
  },
  {
   "cell_type": "code",
   "execution_count": null,
   "metadata": {},
   "outputs": [],
   "source": [
    "# DummyLayer just demonstrates/tests re-defining `Layer.plot``,\n",
    "# it doesn't affect the model prediction.\n",
    "class DummyLayer(Layer):\n",
    "    def evaluate(self, input):\n",
    "        return input  # passthrough\n",
    "    def plot(self, output, fig, **kwargs):\n",
    "        # fig should be a subfigure of model figure\n",
    "        n_chans = output.shape[1]\n",
    "        fig.subplots(n_chans, 1)\n",
    "        colors = plt.cm.rainbow(np.linspace(0, 1, n_chans))\n",
    "        # one channel per subplot, repeated if multiple outputs\n",
    "        for i, ax in enumerate(fig.axes):\n",
    "            ax.plot(output[:,i], c=colors[i])\n",
    "    @property\n",
    "    def plot_options(self):\n",
    "        return {'show_y': False}\n",
    "\n",
    "model = Model()\n",
    "model.add_layers(\n",
    "    WeightChannelsGaussian(shape=(18,4)),\n",
    "    DummyLayer(),\n",
    "    FIR(shape=(4,25)),\n",
    "    DoubleExponential(shape=(), name='DEXP HAS A NAME')\n",
    ")"
   ]
  },
  {
   "cell_type": "code",
   "execution_count": null,
   "metadata": {},
   "outputs": [],
   "source": [
    "fig2 = model.plot(\n",
    "    spectrogram, target=resp,\n",
    "    sampling_rate=100,\n",
    "    # conversion_factor=1e3,              # units of ms\n",
    "    # conversion_factor=1/60,             # units of min\n",
    "    n=None,                               # plot up to the nth layer\n",
    "    # select_layers=['DEXP HAS A NAME'],  # only plot dexp\n",
    "    # select_layers=slice(1,3),           # plot the second and third layers\n",
    "    n_columns=1, figure_kwargs={'figsize': (12,6)}\n",
    "    )"
   ]
  },
  {
   "cell_type": "code",
   "execution_count": null,
   "metadata": {},
   "outputs": [],
   "source": [
    "# Fit the model, so that the last layer's output (should) look like resp\n",
    "# If the fit is awful, try re-evaluating this cell to start from new initial\n",
    "# conditions. I usually get a decent one within 2-3 tries.\n",
    "model.sample_from_priors()\n",
    "model.fit(spectrogram, resp)"
   ]
  },
  {
   "cell_type": "code",
   "execution_count": null,
   "metadata": {},
   "outputs": [],
   "source": [
    "fig3 = model.plot(spectrogram, target=resp, sampling_rate=100,\n",
    "                  figure_kwargs={'figsize': (10,6)})"
   ]
  },
  {
   "cell_type": "code",
   "execution_count": null,
   "metadata": {},
   "outputs": [],
   "source": []
  }
 ],
 "metadata": {
  "kernelspec": {
   "display_name": "Python 3.9.12 ('nemsenv')",
   "language": "python",
   "name": "python3"
  },
  "language_info": {
   "codemirror_mode": {
    "name": "ipython",
    "version": 3
   },
   "file_extension": ".py",
   "mimetype": "text/x-python",
   "name": "python",
   "nbconvert_exporter": "python",
   "pygments_lexer": "ipython3",
   "version": "3.9.12"
  },
  "orig_nbformat": 4,
  "vscode": {
   "interpreter": {
    "hash": "34aaeff23f19c2a7c7cbe642234f2e2e8d7af1f23b524d8bd0f4b326f0682213"
   }
  }
 },
 "nbformat": 4,
 "nbformat_minor": 2
}
