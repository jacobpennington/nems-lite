{
 "cells": [
  {
   "cell_type": "markdown",
   "metadata": {},
   "source": [
    "Generate NEMS models with sampled parameters.\n",
    "\n",
    "Pull out coefficients and reshape them the same way `FIR.evaluate` does."
   ]
  },
  {
   "cell_type": "code",
   "execution_count": null,
   "metadata": {},
   "outputs": [],
   "source": [
    "import numpy as np\n",
    "from nems import Model\n",
    "\n",
    "rank = 2\n",
    "n_outputs = 1\n",
    "filter_width = 1\n",
    "n_samples = 10\n",
    "\n",
    "model = Model.from_keywords(f'fir.{filter_width}x{rank}')\n",
    "samples = model.sample_from_priors(n=n_samples)\n",
    "coefs = [m.get_parameter_values()['fir']['coefficients'] for m in samples]\n",
    "# add output dim, flip rank and time\n",
    "coefs = [np.flip(c[..., np.newaxis]) for c in coefs]\n",
    "\n",
    "coefs[0].shape"
   ]
  },
  {
   "cell_type": "markdown",
   "metadata": {},
   "source": [
    "Define random input and target, where target should be a very easy fit."
   ]
  },
  {
   "cell_type": "code",
   "execution_count": null,
   "metadata": {},
   "outputs": [],
   "source": [
    "inputs = np.random.rand(1, 300, rank).astype(np.float32)\n",
    "target = inputs[...,:1]/2 + np.random.randn(inputs.shape[0], 1)/100"
   ]
  },
  {
   "cell_type": "markdown",
   "metadata": {},
   "source": [
    "Define single keras Layer for FIR, loss function, early stopping"
   ]
  },
  {
   "cell_type": "code",
   "execution_count": null,
   "metadata": {},
   "outputs": [],
   "source": [
    "import tensorflow as tf\n",
    "\n",
    "@tf.function\n",
    "def trivial_broadcast_inputs(inputs):\n",
    "    return inputs\n",
    "\n",
    "@tf.function\n",
    "def trivial_broadcast_kernel(kernel):\n",
    "    return kernel\n",
    "\n",
    "@tf.function\n",
    "def convolve(inputs, kernel):\n",
    "    input_width = tf.shape(inputs)[1]\n",
    "    # Reshape will group by output before rank w/o transpose.\n",
    "    transposed = tf.transpose(inputs, [0, 1, 3, 2])\n",
    "    # Collapse rank and n_outputs to one dimension.\n",
    "    # -1 for batch size b/c it can be None.\n",
    "    reshaped = tf.reshape(\n",
    "        transposed, [-1, input_width, rank*n_outputs]\n",
    "        )\n",
    "    padded_input = tf.pad(\n",
    "        reshaped, [[0, 0], [filter_width-1, 0], [0, 0]]\n",
    "        )\n",
    "    return tf.nn.conv1d(padded_input, kernel, stride=1, padding='VALID')\n",
    "\n",
    "class SimpleFIR(tf.keras.layers.Layer):\n",
    "    def __init__(self, shape):\n",
    "        super().__init__(name='fir')\n",
    "        constraint = lambda t : tf.clip_by_value(t, -np.inf, np.inf)\n",
    "        self.kernel = self.add_weight(\n",
    "            name='kernel', shape=shape, trainable=True, constraint=constraint\n",
    "            )\n",
    "    def call(self, inputs):\n",
    "        input_width = tf.shape(inputs)[1]\n",
    "        inputs = trivial_broadcast_inputs(inputs)\n",
    "        kernel = trivial_broadcast_kernel(self.kernel)\n",
    "        # Make None shape explicit\n",
    "        rank_4 = tf.reshape(inputs, [-1, input_width, rank, n_outputs])\n",
    "        return convolve(rank_4, kernel)\n",
    "\n",
    "\n",
    "# loss function\n",
    "def tf_nmse(response, prediction, per_cell=True):\n",
    "    _response = response\n",
    "    _prediction = prediction\n",
    "\n",
    "    # Put last dimension (number of output channels) first.\n",
    "    _response = tf.transpose(_response, np.roll(np.arange(len(response.shape)), 1))\n",
    "    _prediction = tf.transpose(_prediction, np.roll(np.arange(len(response.shape)), 1))\n",
    "    # Why the reshaping?\n",
    "    _response = tf.reshape(_response, shape=(_response.shape[0], 10, -1))\n",
    "    _prediction = tf.reshape(_prediction, shape=(_prediction.shape[0], 10, -1))\n",
    "\n",
    "    squared_error = ((_response - _prediction) ** 2)\n",
    "    nmses = (tf.math.reduce_mean(squared_error, axis=-1) /\n",
    "             tf.math.reduce_mean(_response**2, axis=-1)) ** 0.5\n",
    "\n",
    "    mE = tf.math.reduce_mean(nmses, axis=-1)\n",
    "    # Hard-coded 10 again? Why?\n",
    "    sE = tf.math.reduce_std(nmses, axis=-1) / 10 ** 0.5\n",
    "\n",
    "    return mE, sE\n",
    "\n",
    "\n",
    "# early stopping\n",
    "class DelayedStopper(tf.keras.callbacks.EarlyStopping):\n",
    "    \"\"\"Early stopper that waits before kicking in.\"\"\"\n",
    "    def __init__(self, start_epoch=100, **kwargs):\n",
    "        super(DelayedStopper, self).__init__(**kwargs)\n",
    "        self.start_epoch = start_epoch\n",
    "\n",
    "    def on_epoch_end(self, epoch, logs=None):\n",
    "        if epoch > self.start_epoch:\n",
    "            super().on_epoch_end(epoch, logs)"
   ]
  },
  {
   "cell_type": "markdown",
   "metadata": {},
   "source": [
    "Compile model with Adam optimizer, nmse loss."
   ]
  },
  {
   "cell_type": "code",
   "execution_count": null,
   "metadata": {},
   "outputs": [],
   "source": [
    "\n",
    "\n",
    "tf_model = tf.keras.Sequential()\n",
    "tf_model.add(SimpleFIR(coefs[0].shape))\n",
    "tf_model.compile(\n",
    "    optimizer=tf.keras.optimizers.Adam(learning_rate=1e-2),\n",
    "    loss=tf_nmse\n",
    ")\n",
    "\n",
    "callbacks = [\n",
    "    DelayedStopper(\n",
    "        monitor='loss', patience=10, min_delta=1e-3, verbose=1,\n",
    "        restore_best_weights=True, start_epoch=10,\n",
    "        )\n",
    "    ]"
   ]
  },
  {
   "cell_type": "markdown",
   "metadata": {},
   "source": [
    "Iterate over random initial conditions, fit and save prediction correlation."
   ]
  },
  {
   "cell_type": "code",
   "execution_count": null,
   "metadata": {},
   "outputs": [],
   "source": [
    "ccs = []\n",
    "for c in coefs:\n",
    "    tf_model.get_layer('fir').set_weights([c])\n",
    "    tf_model.fit(\n",
    "        inputs, target, epochs=200, callbacks=callbacks,\n",
    "        )\n",
    "    prediction = tf_model.predict(inputs)\n",
    "    ccs.append(np.corrcoef(prediction[..., 0], target[..., 0])[0, 1])\n"
   ]
  },
  {
   "cell_type": "markdown",
   "metadata": {},
   "source": [
    "Print results."
   ]
  },
  {
   "cell_type": "code",
   "execution_count": null,
   "metadata": {},
   "outputs": [],
   "source": [
    "print(ccs)"
   ]
  },
  {
   "cell_type": "code",
   "execution_count": null,
   "metadata": {},
   "outputs": [],
   "source": []
  }
 ],
 "metadata": {
  "kernelspec": {
   "display_name": "Python 3.9.12 ('mkltest')",
   "language": "python",
   "name": "python3"
  },
  "language_info": {
   "codemirror_mode": {
    "name": "ipython",
    "version": 3
   },
   "file_extension": ".py",
   "mimetype": "text/x-python",
   "name": "python",
   "nbconvert_exporter": "python",
   "pygments_lexer": "ipython3",
   "version": "3.9.12"
  },
  "orig_nbformat": 4,
  "vscode": {
   "interpreter": {
    "hash": "7e04c614ea49137b728f9a88f47ebc62abd1dc770924cb0e56431acc2e9f8803"
   }
  }
 },
 "nbformat": 4,
 "nbformat_minor": 2
}
