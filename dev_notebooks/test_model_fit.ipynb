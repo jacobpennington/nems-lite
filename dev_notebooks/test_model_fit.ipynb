{
 "cells": [
  {
   "cell_type": "code",
   "execution_count": null,
   "metadata": {},
   "outputs": [],
   "source": [
    "import numpy as np\n",
    "\n",
    "from nems import Model\n",
    "\n",
    "input = np.random.rand(1000, 18)\n",
    "target = np.random.rand(1000, 1)\n",
    "model = Model.from_keywords('wc.18x3x2.g-fir.15x3x2-dexp.1')\n",
    "_ = model.sample_from_priors()"
   ]
  },
  {
   "cell_type": "code",
   "execution_count": null,
   "metadata": {},
   "outputs": [],
   "source": [
    "data_out = model.evaluate(input)\n",
    "data_out['output'].shape"
   ]
  },
  {
   "cell_type": "code",
   "execution_count": null,
   "metadata": {},
   "outputs": [],
   "source": [
    "options= {'cost_function': 'nmse', 'options': {'maxiter': 10}}\n",
    "fit_model = model.fit(input, target, fitter_options=options)\n",
    "fit_model.results"
   ]
  },
  {
   "cell_type": "code",
   "execution_count": null,
   "metadata": {},
   "outputs": [],
   "source": [
    "# Data compatible with batching\n",
    "spectrogram = np.random.random(size=(10, 1000, 18))\n",
    "response = np.random.random(size=(10, 1000, 1)) + 2\n",
    "pupil = np.random.random(size=(10, 1000, 1))\n",
    "other_state = np.random.choice(['on', 'off'], size=(10, 1000, 1))\n",
    "\n",
    "# broadcast spectrogram to other inputs\n",
    "data_out = model.evaluate(spectrogram, batch_size=5)\n",
    "data_out['output'].shape"
   ]
  },
  {
   "cell_type": "code",
   "execution_count": null,
   "metadata": {},
   "outputs": [],
   "source": [
    "# broadcasted shape shouldn't show up here, only the outputs get updated\n",
    "# in the returned data.\n",
    "data_out['output'].shape"
   ]
  },
  {
   "cell_type": "code",
   "execution_count": null,
   "metadata": {},
   "outputs": [],
   "source": [
    "fit_model = model.fit(spectrogram, response, input_name='stimulus',\n",
    "                      target_name='response', batch_size=2,\n",
    "                      fitter_options=options)"
   ]
  },
  {
   "cell_type": "code",
   "execution_count": null,
   "metadata": {},
   "outputs": [],
   "source": [
    "# should be false\n",
    "np.allclose(\n",
    "    model.predict(spectrogram, batch_size=2),\n",
    "    fit_model.predict(spectrogram, batch_size=2)\n",
    "    )"
   ]
  },
  {
   "cell_type": "code",
   "execution_count": null,
   "metadata": {},
   "outputs": [],
   "source": [
    "fit_model.backend"
   ]
  },
  {
   "cell_type": "code",
   "execution_count": null,
   "metadata": {},
   "outputs": [],
   "source": [
    "fit_model.results"
   ]
  },
  {
   "cell_type": "code",
   "execution_count": null,
   "metadata": {},
   "outputs": [],
   "source": []
  }
 ],
 "metadata": {
  "kernelspec": {
   "display_name": "Python 3 (ipykernel)",
   "language": "python",
   "name": "python3"
  },
  "language_info": {
   "codemirror_mode": {
    "name": "ipython",
    "version": 3
   },
   "file_extension": ".py",
   "mimetype": "text/x-python",
   "name": "python",
   "nbconvert_exporter": "python",
   "pygments_lexer": "ipython3",
   "version": "3.9.12"
  },
  "vscode": {
   "interpreter": {
    "hash": "7e04c614ea49137b728f9a88f47ebc62abd1dc770924cb0e56431acc2e9f8803"
   }
  }
 },
 "nbformat": 4,
 "nbformat_minor": 2
}
