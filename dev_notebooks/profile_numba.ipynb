{
 "cells": [
  {
   "cell_type": "code",
   "execution_count": 21,
   "metadata": {},
   "outputs": [],
   "source": [
    "from numba import jit\n",
    "import numpy as np\n",
    "\n",
    "from nems.layers import DoubleExponential\n",
    "\n",
    "# NOTE: Also tried with WC, but tensordot is not supported. After some research,\n",
    "#       sounds like there would be no point to a custom implementation either\n",
    "#       (b/c they end up being no better than numpy).\n",
    "\n",
    "# NOTE: Looking like the average best-case scenario (according to others) is a\n",
    "#       ~2x speedup over numpy, if there's a speedup at all, except for very\n",
    "#       specific cases. So this may be useful for Layers that aren't well suited\n",
    "#       for simple numpy wrappers (i.e. lots of plain python with loops), but\n",
    "#       likely won't help with the main LN Layers.\n",
    "\n",
    "pred = np.random.rand(10000, 1)\n",
    "b, a, s, k = np.random.rand(4,1)\n",
    "dexp = DoubleExponential(shape=(1,))\n",
    "dexp.set_parameter_values(base=b, amplitude=a, shift=s, kappa=k)\n",
    "\n",
    "class NumbaDexp:\n",
    "    b = b\n",
    "    a = a\n",
    "    s = s\n",
    "    k = k\n",
    "    def evaluate(self, input):\n",
    "        return _evaluate(input, self.b, self.a, self.s, self.k)\n",
    "\n",
    "@jit(nopython=True)\n",
    "def _evaluate(input, b, a, s, k):\n",
    "    return b + a * np.exp(-np.exp((-np.exp(k) * (input - s))))\n",
    "\n",
    "numba_dexp = NumbaDexp()"
   ]
  },
  {
   "cell_type": "code",
   "execution_count": 24,
   "metadata": {},
   "outputs": [
    {
     "name": "stdout",
     "output_type": "stream",
     "text": [
      "203 µs ± 25.1 µs per loop (mean ± std. dev. of 7 runs, 1,000 loops each)\n",
      "402 µs ± 27.3 µs per loop (mean ± std. dev. of 7 runs, 1,000 loops each)\n"
     ]
    }
   ],
   "source": [
    "# NOTE: looks like it's even slower? may be a bad example, lots of exp.\n",
    "numba_dexp.evaluate(pred)  # make sure it's compiled\n",
    "%timeit dexp.evaluate(pred)\n",
    "%timeit numba_dexp.evaluate(pred)"
   ]
  },
  {
   "cell_type": "code",
   "execution_count": null,
   "metadata": {},
   "outputs": [],
   "source": []
  }
 ],
 "metadata": {
  "kernelspec": {
   "display_name": "Python 3.9.12 ('mkltest')",
   "language": "python",
   "name": "python3"
  },
  "language_info": {
   "codemirror_mode": {
    "name": "ipython",
    "version": 3
   },
   "file_extension": ".py",
   "mimetype": "text/x-python",
   "name": "python",
   "nbconvert_exporter": "python",
   "pygments_lexer": "ipython3",
   "version": "3.9.12"
  },
  "orig_nbformat": 4,
  "vscode": {
   "interpreter": {
    "hash": "7e04c614ea49137b728f9a88f47ebc62abd1dc770924cb0e56431acc2e9f8803"
   }
  }
 },
 "nbformat": 4,
 "nbformat_minor": 2
}
